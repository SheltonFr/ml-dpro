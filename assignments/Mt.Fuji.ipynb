{
 "cells": [
  {
   "cell_type": "markdown",
   "id": "4e898d57-ec9c-4e7b-9669-b9e600d0b10a",
   "metadata": {},
   "source": [
    "# Mt. Fuji paper folding issue"
   ]
  },
  {
   "cell_type": "code",
   "execution_count": 1,
   "id": "e09223cd-4cd6-4e61-aa65-bf92cd672a0d",
   "metadata": {},
   "outputs": [],
   "source": [
    "THICKNESS: float = 0.00008 # not folded paper thickness\n",
    "FUJI_HEIGHT = 3776"
   ]
  },
  {
   "cell_type": "code",
   "execution_count": 2,
   "id": "cf8fca91-cb83-49e0-91da-5057b304ea00",
   "metadata": {},
   "outputs": [],
   "source": [
    "# times parameter corespond to the number of times the paper has been folded\n",
    "def calculate_paper_thickness(times: int):\n",
    "    return THICKNESS * (2**times)"
   ]
  },
  {
   "cell_type": "markdown",
   "id": "b274af42-5199-4a36-9442-99783d9ce23f",
   "metadata": {},
   "source": [
    "## [Problem 1] How many times to fold paper to exceed the height of Mt.Fuji?"
   ]
  },
  {
   "cell_type": "code",
   "execution_count": 3,
   "id": "2c2bd64e-2262-47f3-8cd9-bcb3ae7463f2",
   "metadata": {},
   "outputs": [],
   "source": [
    "isDone = False\n",
    "times = 0\n",
    "currentThickness = THICKNESS"
   ]
  },
  {
   "cell_type": "code",
   "execution_count": 4,
   "id": "7d1aa457-c107-4438-8032-41629abd4b32",
   "metadata": {},
   "outputs": [
    {
     "name": "stdout",
     "output_type": "stream",
     "text": [
      "DONE: 26 times is required to the thickness to exceed 3776m\n"
     ]
    }
   ],
   "source": [
    "while not isDone:\n",
    "    currentThickness = calculate_paper_thickness(times)\n",
    "    if currentThickness < FUJI_HEIGHT:\n",
    "        times = times + 1\n",
    "    else:\n",
    "        isDone = not isDone\n",
    "        print(\"DONE: {} times is required to the thickness to exceed 3776m\".format(times))"
   ]
  },
  {
   "cell_type": "markdown",
   "id": "0ab9a7f4-3722-422b-8c3b-ba91c717ad66",
   "metadata": {},
   "source": [
    "## [Problem 2] Function corresponding to arbitrary thickness"
   ]
  },
  {
   "cell_type": "code",
   "execution_count": 15,
   "id": "d304295f-35b7-43e5-98fc-4b22dd4c4ce3",
   "metadata": {},
   "outputs": [],
   "source": [
    "def calculate_minimun_folds_number(height: float, default_thickness: float = 0.00008) -> int:\n",
    "    isDone = False\n",
    "    folds = 0\n",
    "    currentHeight = 0\n",
    "    while not isDone:\n",
    "        currentHeight = default_thickness * (2**folds)\n",
    "        if currentHeight < height:\n",
    "            folds = folds + 1\n",
    "        else:\n",
    "            isDone = not isDone\n",
    "    return folds"
   ]
  },
  {
   "cell_type": "code",
   "execution_count": 16,
   "id": "6b18c9a1-0e6b-495e-b8a6-6ea9677de785",
   "metadata": {},
   "outputs": [],
   "source": [
    "# Proxima centauri proximated distance\n",
    "proxima_centauri = 4.0175 * 10**16"
   ]
  },
  {
   "cell_type": "code",
   "execution_count": 20,
   "id": "4176d0d0-84b9-4197-abd5-711b84da6fcc",
   "metadata": {},
   "outputs": [],
   "source": [
    "# calculate how many times the paper should be folded to reach Proxima Centauri\n",
    "folds_to_centauri = calculate_minimun_folds_number(proxima_centauri)"
   ]
  },
  {
   "cell_type": "markdown",
   "id": "1e5d115d-c15c-4123-b360-af7f83c92e38",
   "metadata": {},
   "source": [
    "## [Problem 3]: Required paper length"
   ]
  },
  {
   "cell_type": "code",
   "execution_count": 5,
   "id": "5573e2b7-09c5-4516-bac0-3e9f4fd10fb2",
   "metadata": {},
   "outputs": [],
   "source": [
    "import math"
   ]
  },
  {
   "cell_type": "code",
   "execution_count": 9,
   "id": "59d52acd-b77d-4364-a2f9-6d31e766dacb",
   "metadata": {},
   "outputs": [],
   "source": [
    "def paper_length(folds: int, default_thickness: float = 0.00008) -> float:\n",
    "    return (math.pi * default_thickness / 6) * ((2**folds) + 4) * ((2**folds) - 1)"
   ]
  },
  {
   "cell_type": "markdown",
   "id": "8376fd25-7c1b-4a5e-b686-da285b0bb91f",
   "metadata": {},
   "source": [
    "### Paper legth to reach the Moon, Mt. Fuji and Proxima Centauri"
   ]
  },
  {
   "cell_type": "code",
   "execution_count": 22,
   "id": "3fc4eeb6-d8e4-4c19-8e5a-f4dfcc8acda7",
   "metadata": {},
   "outputs": [],
   "source": [
    "# get how many times paper should be folded for each case\n",
    "folds_to_moon = 43 # known from previous assingments\n",
    "folds_to_fuji = calculate_minimun_folds_number(3776)\n",
    "folds_to_centauri = calculate_minimun_folds_number(proxima_centauri)"
   ]
  },
  {
   "cell_type": "code",
   "execution_count": 24,
   "id": "77e61c3a-5c9c-4831-9ed0-c900b25465ce",
   "metadata": {},
   "outputs": [
    {
     "name": "stdout",
     "output_type": "stream",
     "text": [
      "TO reach the moon: l = 3.240919444170781e+21 m\n",
      "TO reach the Mt. Fuji: l = 188646348487.24017 m\n",
      "TO reach Proxima Centauri: l = 1.4595803601100348e+37 m\n"
     ]
    }
   ],
   "source": [
    "print(\"TO reach the moon: l = {} m\".format(paper_length(folds_to_moon)))\n",
    "print(\"TO reach the Mt. Fuji: l = {} m\".format(paper_length(folds_to_fuji)))\n",
    "print(\"TO reach Proxima Centauri: l = {} m\".format(paper_length(folds_to_centauri)))"
   ]
  },
  {
   "cell_type": "code",
   "execution_count": null,
   "id": "f33713a4-b60a-46ba-bc39-b2adb6c510c6",
   "metadata": {},
   "outputs": [],
   "source": []
  }
 ],
 "metadata": {
  "kernelspec": {
   "display_name": "Python 3 (ipykernel)",
   "language": "python",
   "name": "python3"
  },
  "language_info": {
   "codemirror_mode": {
    "name": "ipython",
    "version": 3
   },
   "file_extension": ".py",
   "mimetype": "text/x-python",
   "name": "python",
   "nbconvert_exporter": "python",
   "pygments_lexer": "ipython3",
   "version": "3.8.13"
  }
 },
 "nbformat": 4,
 "nbformat_minor": 5
}
