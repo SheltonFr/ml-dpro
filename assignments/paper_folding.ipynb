{
 "cells": [
  {
   "cell_type": "markdown",
   "id": "493ec39d-508e-4d94-8946-c8830a6d31e5",
   "metadata": {},
   "source": [
    "# Paper Folding Problem"
   ]
  },
  {
   "cell_type": "markdown",
   "id": "3a3aaf8d-a22e-419f-886f-4d9f9df31148",
   "metadata": {},
   "source": [
    "## [Problem 1] implementing using exponentiation arithmetic operators"
   ]
  },
  {
   "cell_type": "code",
   "execution_count": 79,
   "id": "5779084e-bd31-401c-ba56-3556523cd46b",
   "metadata": {},
   "outputs": [],
   "source": [
    "THICKNESS: float = 0.00008 # original paper thickness"
   ]
  },
  {
   "cell_type": "code",
   "execution_count": 80,
   "id": "1d0f98f9-3e53-4173-a1ac-3830b8646519",
   "metadata": {},
   "outputs": [],
   "source": [
    "# times parameter corespond to the number of times the paper has been folded\n",
    "def calculate_paper_thickness(times: int):\n",
    "    return THICKNESS * (2**times)"
   ]
  },
  {
   "cell_type": "markdown",
   "id": "49ec3213-45e0-4f9d-a3ea-9ba9e9b7ff22",
   "metadata": {},
   "source": [
    "Convert a give number in meter to kilometer"
   ]
  },
  {
   "cell_type": "code",
   "execution_count": 81,
   "id": "a7478ade-f0cc-4c82-9e2d-7f88ca00f58d",
   "metadata": {},
   "outputs": [],
   "source": [
    "def convert_meter_to_kilometer(number: float):\n",
    "    return number/1000"
   ]
  },
  {
   "cell_type": "markdown",
   "id": "0dececa1-7490-4d44-93b9-d666c341c3e4",
   "metadata": {},
   "source": [
    "Calculate the thicnkess and show the result"
   ]
  },
  {
   "cell_type": "code",
   "execution_count": 82,
   "id": "3b0dbbf1-93c0-4100-bc0c-34d614ead834",
   "metadata": {},
   "outputs": [
    {
     "name": "stdout",
     "output_type": "stream",
     "text": [
      "Thickness:  703687.44 kilometers\n"
     ]
    }
   ],
   "source": [
    "folded_thickness = calculate_paper_thickness(43)\n",
    "\n",
    "print(\"Thickness: {: .2f} kilometers\".format(convert_meter_to_kilometer(folded_thickness)))"
   ]
  },
  {
   "cell_type": "markdown",
   "id": "e92652bd-2a8a-4412-a897-3b412d379253",
   "metadata": {},
   "source": [
    "## [Problem 3] Using for statement"
   ]
  },
  {
   "cell_type": "code",
   "execution_count": 83,
   "id": "dd450f0e-5b6b-4cfe-85cb-832ee5c65bad",
   "metadata": {},
   "outputs": [
    {
     "name": "stdout",
     "output_type": "stream",
     "text": [
      "Thickness:  703687.44 kilometers\n"
     ]
    }
   ],
   "source": [
    "def calculate_paper_thickness_for_statement(times: int):\n",
    "    counter = 1\n",
    "    for num in range(times):\n",
    "        counter = counter * 2\n",
    "    return THICKNESS * counter\n",
    "\n",
    "folded_thickness = calculate_paper_thickness_for_statement(43)\n",
    "print(\"Thickness: {: .2f} kilometers\".format(convert_meter_to_kilometer(folded_thickness)))\n"
   ]
  },
  {
   "cell_type": "markdown",
   "id": "76af2153-ef46-40be-b596-4b156390e7ea",
   "metadata": {},
   "source": [
    "## [Problem 4] Comparison of calculation time"
   ]
  },
  {
   "cell_type": "code",
   "execution_count": 84,
   "id": "fd54b54a-ffcf-4e2e-83ea-fb3ec4254164",
   "metadata": {},
   "outputs": [
    {
     "name": "stdout",
     "output_type": "stream",
     "text": [
      "4.16 µs ± 128 ns per loop (mean ± std. dev. of 7 runs, 100,000 loops each)\n"
     ]
    }
   ],
   "source": [
    "%%timeit\n",
    "calculate_paper_thickness_for_statement(43)"
   ]
  },
  {
   "cell_type": "code",
   "execution_count": 85,
   "id": "f8982ee8-accc-489d-a26d-67a58b4f1a7d",
   "metadata": {},
   "outputs": [
    {
     "name": "stdout",
     "output_type": "stream",
     "text": [
      "999 ns ± 15.2 ns per loop (mean ± std. dev. of 7 runs, 1,000,000 loops each)\n"
     ]
    }
   ],
   "source": [
    "%%timeit\n",
    "calculate_paper_thickness(43)"
   ]
  },
  {
   "cell_type": "markdown",
   "id": "ac02cfe2-e010-4423-a8fa-28c079caa4cb",
   "metadata": {},
   "source": [
    "## [Problem 5 - 7]Graph visualization"
   ]
  },
  {
   "cell_type": "code",
   "execution_count": 87,
   "id": "1ad8a481-cd0a-4890-867c-f5d9a84eedca",
   "metadata": {},
   "outputs": [
    {
     "data": {
      "image/png": "[encoded data removed]",
      "text/plain": [
       "<Figure size 640x480 with 1 Axes>"
      ]
     },
     "metadata": {},
     "output_type": "display_data"
    }
   ],
   "source": [
    "import numpy as np\n",
    "import matplotlib.pyplot as plt\n",
    "\n",
    "x = np.arange(1, 44, 1)\n",
    "\n",
    "# will calculate the thickness for each value of x, and store in y array\n",
    "y = [calculate_paper_thickness_for_statement(num) for num in x]\n",
    "\n",
    "plt.plot(x, y)\n",
    "plt.title(\"Thickness of folded paper\")\n",
    "plt.xlabel(\"Number of folds\")\n",
    "plt.ylabel(\"Thickness\")\n",
    "plt.show()\n"
   ]
  },
  {
   "cell_type": "code",
   "execution_count": null,
   "id": "d6eb9242-2b07-405f-85db-ba2310ad3f60",
   "metadata": {},
   "outputs": [],
   "source": []
  }
 ],
 "metadata": {
  "kernelspec": {
   "display_name": "Python 3 (ipykernel)",
   "language": "python",
   "name": "python3"
  },
  "language_info": {
   "codemirror_mode": {
    "name": "ipython",
    "version": 3
   },
   "file_extension": ".py",
   "mimetype": "text/x-python",
   "name": "python",
   "nbconvert_exporter": "python",
   "pygments_lexer": "ipython3",
   "version": "3.8.13"
  }
 },
 "nbformat": 4,
 "nbformat_minor": 5
}
