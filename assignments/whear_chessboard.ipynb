{
 "cells": [
  {
   "cell_type": "markdown",
   "id": "b11a7d79-0d53-4740-bc24-5833d68065e1",
   "metadata": {},
   "source": [
    "# Wheat and chess board problem"
   ]
  },
  {
   "cell_type": "code",
   "execution_count": 2,
   "id": "71335043-2c07-4397-a93f-8954752d709d",
   "metadata": {},
   "outputs": [
    {
     "name": "stdout",
     "output_type": "stream",
     "text": [
      "Arrange wheat on a plate of 4 squares (list): [1 2 4 8]\n"
     ]
    }
   ],
   "source": [
    "import numpy as np\n",
    "n_squares = 4\n",
    "small_board_list = [1]\n",
    "for _ in range(n_squares - 1):\n",
    "    small_board_list.append(2 * small_board_list[-1])\n",
    "small_board_ndarray = np.array(small_board_list)\n",
    "print(\"Arrange wheat on a plate of 4 squares (list): {}\".format(small_board_ndarray))"
   ]
  },
  {
   "cell_type": "markdown",
   "id": "92425212-9b0b-436c-bbd4-0b59600312ee",
   "metadata": {},
   "source": [
    "## [Problem 1] 2 x 2 square chess board"
   ]
  },
  {
   "cell_type": "markdown",
   "id": "600b5682-581f-4eac-97fb-ada81c220654",
   "metadata": {},
   "source": [
    "Reshaping the small_board_ndarray to a 2 row and 2 columns array"
   ]
  },
  {
   "cell_type": "code",
   "execution_count": 6,
   "id": "39f70f21-3f03-4792-8aff-3e994ec6a3af",
   "metadata": {},
   "outputs": [
    {
     "data": {
      "text/plain": [
       "array([[1, 2],\n",
       "       [4, 8]])"
      ]
     },
     "execution_count": 6,
     "metadata": {},
     "output_type": "execute_result"
    }
   ],
   "source": [
    "small_board_ndarray = small_board_ndarray.reshape((2, 2))"
   ]
  },
  {
   "cell_type": "markdown",
   "id": "f810bc40-cc88-4ac4-aedd-d405e9051c26",
   "metadata": {},
   "source": [
    "## [Problem 3]: Total number of wheat"
   ]
  },
  {
   "cell_type": "code",
   "execution_count": 21,
   "id": "87a05a79-af56-49cc-8360-890f045ea9c0",
   "metadata": {},
   "outputs": [
    {
     "data": {
      "text/plain": [
       "numpy.float64"
      ]
     },
     "execution_count": 21,
     "metadata": {},
     "output_type": "execute_result"
    }
   ],
   "source": [
    "n_dimension = 8\n",
    "square_board = [1]\n",
    "for _ in range((n_dimension * n_dimension) -1):\n",
    "    square_board.append(2 * square_board[-1])\n",
    "ndarray_board = np.array(square_board)\n",
    "ndarray_board.reshape(8, 8)"
   ]
  },
  {
   "cell_type": "code",
   "execution_count": 9,
   "id": "a5254edc-7f82-4502-86e4-110a8c5af3fa",
   "metadata": {},
   "outputs": [
    {
     "data": {
      "image/png": "[encoded data removed]",
      "text/plain": [
       "<Figure size 640x480 with 1 Axes>"
      ]
     },
     "metadata": {},
     "output_type": "display_data"
    }
   ],
   "source": [
    "import matplotlib.pyplot as plt\n",
    "%matplotlib inline\n",
    "\n",
    "plt.xlabel(\"column\")\n",
    "plt.ylabel(\"number\")\n",
    "plt.bar(np.arange(1,4), np.array([1, 2, 3]))\n",
    "plt.show()"
   ]
  },
  {
   "cell_type": "code",
   "execution_count": null,
   "id": "775821d7-d880-4b26-a79e-efadbf20d092",
   "metadata": {},
   "outputs": [],
   "source": []
  }
 ],
 "metadata": {
  "kernelspec": {
   "display_name": "Python 3 (ipykernel)",
   "language": "python",
   "name": "python3"
  },
  "language_info": {
   "codemirror_mode": {
    "name": "ipython",
    "version": 3
   },
   "file_extension": ".py",
   "mimetype": "text/x-python",
   "name": "python",
   "nbconvert_exporter": "python",
   "pygments_lexer": "ipython3",
   "version": "3.8.13"
  }
 },
 "nbformat": 4,
 "nbformat_minor": 5
}
