{
 "cells": [
  {
   "cell_type": "code",
   "execution_count": 21,
   "id": "5ba0fce1-cbd3-4d6c-bb97-55d3bb3119fe",
   "metadata": {},
   "outputs": [],
   "source": [
    "import numpy as np"
   ]
  },
  {
   "cell_type": "markdown",
   "id": "35cae8ae-f503-494f-8687-061ddbd3cfeb",
   "metadata": {},
   "source": [
    "## Concatanations"
   ]
  },
  {
   "cell_type": "code",
   "execution_count": 5,
   "id": "c6a02563-b585-423e-b716-2a9e9b33697b",
   "metadata": {},
   "outputs": [],
   "source": [
    "a = np.array([1, 2, 3])\n",
    "b = np.array([4, 5, 6])"
   ]
  },
  {
   "cell_type": "code",
   "execution_count": 6,
   "id": "be817f95-60a1-4355-afcc-30b8bc1cb839",
   "metadata": {},
   "outputs": [
    {
     "data": {
      "text/plain": [
       "array([1, 2, 3, 4, 5, 6])"
      ]
     },
     "execution_count": 6,
     "metadata": {},
     "output_type": "execute_result"
    }
   ],
   "source": [
    "np.concatenate([a, b])"
   ]
  },
  {
   "cell_type": "markdown",
   "id": "c62c4472-e899-4ebb-ace9-f7953ee1ad72",
   "metadata": {},
   "source": [
    "Lets concatenate 2-dimensional arrays"
   ]
  },
  {
   "cell_type": "code",
   "execution_count": 7,
   "id": "2c68039a-9465-4a1b-b90b-46a35be4143a",
   "metadata": {},
   "outputs": [],
   "source": [
    "c = np.array([[1, 2, 3], [4, 5, 6]])\n",
    "d = np.array([[10, 20], [30, 40]])"
   ]
  },
  {
   "cell_type": "code",
   "execution_count": 62,
   "id": "abd1f17d-02e5-472b-ac46-bdd30a4a36c0",
   "metadata": {},
   "outputs": [
    {
     "data": {
      "text/plain": [
       "20"
      ]
     },
     "execution_count": 62,
     "metadata": {},
     "output_type": "execute_result"
    }
   ],
   "source": [
    "#np.concatenate([c, d], axis=1)\n",
    "\n",
    "a = np.array([1, 2, 3])\n",
    "b = np.array([2, 3, 4])\n",
    "\n",
    "np.dot(a, b)"
   ]
  },
  {
   "cell_type": "markdown",
   "id": "9ed8bade-c12b-4ca6-aaa1-71a237e37194",
   "metadata": {},
   "source": [
    "__axis__  specifies whether the linkage is colunar or lineal\n",
    "- 0: line direction\n",
    "- 1: colum direction"
   ]
  },
  {
   "cell_type": "code",
   "execution_count": null,
   "id": "9aff105b-be1c-4d85-9b3f-bce9c51cbf30",
   "metadata": {},
   "outputs": [],
   "source": []
  },
  {
   "cell_type": "code",
   "execution_count": null,
   "id": "a8775bd7-26b1-472b-8314-c4df3b623ccb",
   "metadata": {},
   "outputs": [],
   "source": []
  }
 ],
 "metadata": {
  "kernelspec": {
   "display_name": "Python 3 (ipykernel)",
   "language": "python",
   "name": "python3"
  },
  "language_info": {
   "codemirror_mode": {
    "name": "ipython",
    "version": 3
   },
   "file_extension": ".py",
   "mimetype": "text/x-python",
   "name": "python",
   "nbconvert_exporter": "python",
   "pygments_lexer": "ipython3",
   "version": "3.8.13"
  }
 },
 "nbformat": 4,
 "nbformat_minor": 5
}
