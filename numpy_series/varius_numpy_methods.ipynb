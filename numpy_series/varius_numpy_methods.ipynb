{
 "cells": [
  {
   "cell_type": "markdown",
   "id": "23a8d408-4d1c-4712-9a1b-7d5c8a465715",
   "metadata": {},
   "source": [
    "# Varius NumPy Methods"
   ]
  },
  {
   "cell_type": "markdown",
   "id": "ae6d8883-7ac9-4096-81fb-f4907edd1ec8",
   "metadata": {},
   "source": [
    "## Reshape Method"
   ]
  },
  {
   "cell_type": "markdown",
   "id": "dcb3feb2-fe3e-453a-b01e-a90fa09ebfb7",
   "metadata": {},
   "source": [
    "Used to convert the number of arrays dimensions"
   ]
  },
  {
   "cell_type": "code",
   "execution_count": 1,
   "id": "06c6ae6b-8851-4275-8be4-6a48946bd258",
   "metadata": {},
   "outputs": [],
   "source": [
    "import numpy as np"
   ]
  },
  {
   "cell_type": "code",
   "execution_count": 9,
   "id": "5dffbb54-6336-47fe-ab8f-701ad6f1c172",
   "metadata": {},
   "outputs": [
    {
     "data": {
      "text/plain": [
       "array([1, 2, 3, 4, 5, 6])"
      ]
     },
     "execution_count": 9,
     "metadata": {},
     "output_type": "execute_result"
    }
   ],
   "source": [
    "c1 = np.array([1, 2, 3, 4, 5, 6])\n",
    "c1"
   ]
  },
  {
   "cell_type": "markdown",
   "id": "91162875-39fd-4900-ab8d-08505caaa82e",
   "metadata": {},
   "source": [
    "This array is converted to a 2-dimensional array of 2 row and 3 columns using __reshaoe__ method"
   ]
  },
  {
   "cell_type": "code",
   "execution_count": 10,
   "id": "8be4d14e-b6d2-43c6-a451-3eb15c907ec5",
   "metadata": {},
   "outputs": [
    {
     "data": {
      "text/plain": [
       "array([[1, 2, 3],\n",
       "       [4, 5, 6]])"
      ]
     },
     "execution_count": 10,
     "metadata": {},
     "output_type": "execute_result"
    }
   ],
   "source": [
    "c2 = c1.reshape((2, 3))\n",
    "c2"
   ]
  },
  {
   "cell_type": "markdown",
   "id": "d577581f-134d-4acf-bf37-9da918ebf4ea",
   "metadata": {},
   "source": [
    "### Ravel and flatten Method"
   ]
  },
  {
   "cell_type": "markdown",
   "id": "7a7ccef3-fafc-4d7a-9b40-769cfc7afce0",
   "metadata": {},
   "source": [
    "Converts a 2-dimmensional armray to a one-dimensional array"
   ]
  },
  {
   "cell_type": "code",
   "execution_count": 14,
   "id": "49302f25-ab8b-42fd-8b5b-9183f1af9a95",
   "metadata": {},
   "outputs": [
    {
     "data": {
      "text/plain": [
       "array([1, 2, 3, 4, 5, 6])"
      ]
     },
     "execution_count": 14,
     "metadata": {},
     "output_type": "execute_result"
    }
   ],
   "source": [
    "c3 = c2.ravel()\n",
    "c3"
   ]
  },
  {
   "cell_type": "code",
   "execution_count": 15,
   "id": "28defc55-3eef-4e10-8c4f-792ae38d1d0c",
   "metadata": {},
   "outputs": [
    {
     "data": {
      "text/plain": [
       "array([1, 2, 3, 4, 5, 6])"
      ]
     },
     "execution_count": 15,
     "metadata": {},
     "output_type": "execute_result"
    }
   ],
   "source": [
    "c4 = c2.flatten()\n",
    "c4"
   ]
  },
  {
   "cell_type": "markdown",
   "id": "21a28021-1723-4a7b-a66c-ebe7ec58f454",
   "metadata": {},
   "source": [
    "## Duplication"
   ]
  },
  {
   "cell_type": "code",
   "execution_count": 16,
   "id": "4f56985f-7b04-4b54-a162-042134693834",
   "metadata": {},
   "outputs": [],
   "source": [
    "a = np.array([1, 2, 3])\n",
    "a1 = a"
   ]
  },
  {
   "cell_type": "code",
   "execution_count": 18,
   "id": "d730b71a-a682-44b8-99ad-68d4d2f1cedb",
   "metadata": {},
   "outputs": [
    {
     "name": "stdout",
     "output_type": "stream",
     "text": [
      "[1 2 3] [1 2 3]\n"
     ]
    }
   ],
   "source": [
    "print(a, a1)"
   ]
  },
  {
   "cell_type": "markdown",
   "id": "4e0fa6a4-d942-4713-a049-fbe96ad33784",
   "metadata": {},
   "source": [
    "This way, __a__ and __a1__, are in a reference relationship, and chenging the value of one, will also change the value of the other"
   ]
  },
  {
   "cell_type": "code",
   "execution_count": 19,
   "id": "a49cb4b2-e4d3-496a-b2af-dcb7cd440379",
   "metadata": {},
   "outputs": [
    {
     "data": {
      "text/plain": [
       "array([ 1,  2, 10])"
      ]
     },
     "execution_count": 19,
     "metadata": {},
     "output_type": "execute_result"
    }
   ],
   "source": [
    "a[2] = 10\n",
    "a1"
   ]
  },
  {
   "cell_type": "markdown",
   "id": "7f90fc3d-45ea-40c3-aac3-337b0c3d0c28",
   "metadata": {},
   "source": [
    "### Copy"
   ]
  },
  {
   "cell_type": "markdown",
   "id": "3f6db93c-f653-4d33-ba19-9aaf6eaa024a",
   "metadata": {},
   "source": [
    "To avoid this reference relationship, we can use the copy function"
   ]
  },
  {
   "cell_type": "code",
   "execution_count": 21,
   "id": "d6e731c0-b94a-4fe7-95f8-82422f1af434",
   "metadata": {},
   "outputs": [
    {
     "data": {
      "text/plain": [
       "array([1, 2, 3])"
      ]
     },
     "execution_count": 21,
     "metadata": {},
     "output_type": "execute_result"
    }
   ],
   "source": [
    "b = np.array([1, 2, 3])\n",
    "b1 = b.copy()"
   ]
  },
  {
   "cell_type": "code",
   "execution_count": 22,
   "id": "9a12cbee-d914-4856-9260-486b3b4cde8d",
   "metadata": {},
   "outputs": [
    {
     "data": {
      "text/plain": [
       "array([1, 2, 3])"
      ]
     },
     "execution_count": 22,
     "metadata": {},
     "output_type": "execute_result"
    }
   ],
   "source": [
    "b[2] = 5\n",
    "b1"
   ]
  },
  {
   "cell_type": "markdown",
   "id": "7da9628b-475a-457d-bcd8-728db2e506fc",
   "metadata": {},
   "source": [
    "## Random numher"
   ]
  },
  {
   "cell_type": "markdown",
   "id": "fead675e-0a5a-496f-94b9-466189d69f0c",
   "metadata": {},
   "source": [
    "the __random__ function can be used to generate a sequence of random numbers between 0 and 1 "
   ]
  },
  {
   "cell_type": "markdown",
   "id": "678d76ba-2131-49a9-a185-a017eae18c5e",
   "metadata": {},
   "source": [
    "Lets generate a two-dimensional matrix consisting of 4 row and 2 columns"
   ]
  },
  {
   "cell_type": "code",
   "execution_count": 23,
   "id": "5c9f82c4-24f8-4895-8a54-aecf3d733bc4",
   "metadata": {},
   "outputs": [
    {
     "data": {
      "text/plain": [
       "array([[0.70282038, 0.46807367],\n",
       "       [0.06024482, 0.27956517],\n",
       "       [0.46702268, 0.19463635],\n",
       "       [0.83159152, 0.54298532]])"
      ]
     },
     "execution_count": 23,
     "metadata": {},
     "output_type": "execute_result"
    }
   ],
   "source": [
    "f_array = np.random.random((4, 2))\n",
    "f_array"
   ]
  },
  {
   "cell_type": "code",
   "execution_count": 28,
   "id": "40beb508-1daa-488e-ac58-3315d7474fac",
   "metadata": {},
   "outputs": [
    {
     "data": {
      "text/plain": [
       "array([[5, 1, 2, 1, 2],\n",
       "       [9, 1, 9, 7, 5],\n",
       "       [4, 1, 5, 7, 9]])"
      ]
     },
     "execution_count": 28,
     "metadata": {},
     "output_type": "execute_result"
    }
   ],
   "source": [
    "np.random.seed(10)\n",
    "np.random.randint(1, 10, (3, 5))"
   ]
  },
  {
   "cell_type": "code",
   "execution_count": null,
   "id": "ea47d54c-edd5-43c1-b8bf-eed610c6cb23",
   "metadata": {},
   "outputs": [],
   "source": []
  }
 ],
 "metadata": {
  "kernelspec": {
   "display_name": "Python 3 (ipykernel)",
   "language": "python",
   "name": "python3"
  },
  "language_info": {
   "codemirror_mode": {
    "name": "ipython",
    "version": 3
   },
   "file_extension": ".py",
   "mimetype": "text/x-python",
   "name": "python",
   "nbconvert_exporter": "python",
   "pygments_lexer": "ipython3",
   "version": "3.8.13"
  }
 },
 "nbformat": 4,
 "nbformat_minor": 5
}
