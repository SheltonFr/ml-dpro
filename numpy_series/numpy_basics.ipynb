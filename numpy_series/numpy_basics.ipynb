{
 "cells": [
  {
   "cell_type": "code",
   "execution_count": 5,
   "id": "b69436b5-c2dd-4f12-a2a2-daa73e6093da",
   "metadata": {},
   "outputs": [],
   "source": [
    "import numpy as np"
   ]
  },
  {
   "cell_type": "markdown",
   "id": "0aececce-c19a-40df-b293-94c41047ce1b",
   "metadata": {},
   "source": [
    "## Create one-dimensional array"
   ]
  },
  {
   "cell_type": "code",
   "execution_count": 16,
   "id": "c91100e5-f92b-43d6-84cf-3f98a4075d58",
   "metadata": {},
   "outputs": [
    {
     "data": {
      "text/plain": [
       "1"
      ]
     },
     "execution_count": 16,
     "metadata": {},
     "output_type": "execute_result"
    }
   ],
   "source": [
    "a = np.array([1,2,3])\n",
    "\n",
    "# show array number of dimensions\n",
    "a.ndim"
   ]
  },
  {
   "cell_type": "markdown",
   "id": "12bfc60f-2599-4e43-a55a-78bd2147b3aa",
   "metadata": {},
   "source": [
    "## Two-dimensional array"
   ]
  },
  {
   "cell_type": "code",
   "execution_count": 21,
   "id": "3851793f-b8da-422d-af11-3fa061eb2fe2",
   "metadata": {},
   "outputs": [
    {
     "data": {
      "text/plain": [
       "array([[1, 2, 3],\n",
       "       [4, 5, 6]])"
      ]
     },
     "execution_count": 21,
     "metadata": {},
     "output_type": "execute_result"
    }
   ],
   "source": [
    "b = np.array([[1,2,3], [4,5,6]])\n",
    "b"
   ]
  },
  {
   "cell_type": "markdown",
   "id": "f598e2f4-6a70-4085-a20d-2b9b9c09aec5",
   "metadata": {},
   "source": [
    "> shape method returns: (number of rows, number of columns)\n",
    "> ndim returns number of dimenstions"
   ]
  },
  {
   "cell_type": "code",
   "execution_count": 29,
   "id": "e50819d4-0cc1-4de3-8fb8-1563d0384b05",
   "metadata": {},
   "outputs": [
    {
     "name": "stdout",
     "output_type": "stream",
     "text": [
      "b.shape: (2, 3)\n",
      "b.ndim: 2\n"
     ]
    }
   ],
   "source": [
    "print(f'b.shape: {b.shape}')\n",
    "print(f'b.ndim: {b.ndim}')"
   ]
  },
  {
   "cell_type": "markdown",
   "id": "f22d346f-dfe4-4438-aa5a-aaf8206417bd",
   "metadata": {},
   "source": [
    "## Retrieving data from an array"
   ]
  },
  {
   "cell_type": "markdown",
   "id": "c288ef79-f91c-4a2e-8d5c-13bb172517e7",
   "metadata": {},
   "source": [
    "### index"
   ]
  },
  {
   "cell_type": "code",
   "execution_count": 30,
   "id": "1e727eaa-1a1a-445d-b00a-eb01632bb835",
   "metadata": {},
   "outputs": [
    {
     "data": {
      "text/plain": [
       "1"
      ]
     },
     "execution_count": 30,
     "metadata": {},
     "output_type": "execute_result"
    }
   ],
   "source": [
    "a[0]"
   ]
  },
  {
   "cell_type": "markdown",
   "id": "b21fe530-f475-4762-b18f-c86353b05e73",
   "metadata": {},
   "source": [
    "### two dimensional  \n",
    "> __[row_index]__: return the row (array)  \n",
    "> __[row_index, column_index]__: return an element"
   ]
  },
  {
   "cell_type": "code",
   "execution_count": 37,
   "id": "f96a064c-6fe8-45be-8269-ba777b86b687",
   "metadata": {},
   "outputs": [
    {
     "data": {
      "text/plain": [
       "array([4, 5, 6])"
      ]
     },
     "execution_count": 37,
     "metadata": {},
     "output_type": "execute_result"
    }
   ],
   "source": [
    "b[1]"
   ]
  },
  {
   "cell_type": "code",
   "execution_count": 38,
   "id": "bd7b9e4b-5046-4d9e-bcac-f86b6dc26db8",
   "metadata": {},
   "outputs": [
    {
     "data": {
      "text/plain": [
       "4"
      ]
     },
     "execution_count": 38,
     "metadata": {},
     "output_type": "execute_result"
    }
   ],
   "source": [
    "b[1,0]"
   ]
  },
  {
   "cell_type": "code",
   "execution_count": null,
   "id": "09e36a56-8c1c-4b98-b4cd-4baa47dcd535",
   "metadata": {},
   "outputs": [],
   "source": []
  }
 ],
 "metadata": {
  "kernelspec": {
   "display_name": "Python 3 (ipykernel)",
   "language": "python",
   "name": "python3"
  },
  "language_info": {
   "codemirror_mode": {
    "name": "ipython",
    "version": 3
   },
   "file_extension": ".py",
   "mimetype": "text/x-python",
   "name": "python",
   "nbconvert_exporter": "python",
   "pygments_lexer": "ipython3",
   "version": "3.8.13"
  }
 },
 "nbformat": 4,
 "nbformat_minor": 5
}
